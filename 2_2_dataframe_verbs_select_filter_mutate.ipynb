{
 "cells": [
  {
   "cell_type": "code",
   "execution_count": 22,
   "metadata": {
    "slideshow": {
     "slide_type": "slide"
    }
   },
   "outputs": [
    {
     "name": "stdout",
     "output_type": "stream",
     "text": [
      "Requirement already satisfied: dfply in c:\\users\\lf8021ll\\anaconda3\\lib\\site-packages (0.3.3)\n",
      "Requirement already satisfied: pandas in c:\\users\\lf8021ll\\anaconda3\\lib\\site-packages (from dfply) (1.4.2)\n",
      "Requirement already satisfied: numpy in c:\\users\\lf8021ll\\anaconda3\\lib\\site-packages (from dfply) (1.21.5)\n",
      "Requirement already satisfied: pytz>=2020.1 in c:\\users\\lf8021ll\\anaconda3\\lib\\site-packages (from pandas->dfply) (2021.3)\n",
      "Requirement already satisfied: python-dateutil>=2.8.1 in c:\\users\\lf8021ll\\anaconda3\\lib\\site-packages (from pandas->dfply) (2.8.2)\n",
      "Requirement already satisfied: six>=1.5 in c:\\users\\lf8021ll\\anaconda3\\lib\\site-packages (from python-dateutil>=2.8.1->pandas->dfply) (1.16.0)\n"
     ]
    }
   ],
   "source": [
    "# Be sure you installed dfply\n",
    "!pip install dfply"
   ]
  },
  {
   "cell_type": "markdown",
   "metadata": {},
   "source": [
    "## <font color=\"red\"> With the currect version of anaconda3 [2022.05], this won't work on newer M1 Mac's.  If this describes you, please skip over all R code/installations.</font>"
   ]
  },
  {
   "cell_type": "code",
   "execution_count": 13,
   "metadata": {},
   "outputs": [
    {
     "name": "stdout",
     "output_type": "stream",
     "text": [
      "Collecting package metadata (current_repodata.json): ...working... done\n",
      "Note: you may need to restart the kernel to use updated packages.\n",
      "Solving environment: ...working... failed with initial frozen solve. Retrying with flexible solve.\n",
      "Solving environment: ...working... failed with repodata from current_repodata.json, will retry with next repodata source.\n",
      "Collecting package metadata (repodata.json): ...working... done\n",
      "Solving environment: ...working... done\n",
      "\n",
      "## Package Plan ##\n",
      "\n",
      "  environment location: C:\\Users\\lf8021ll\\Anaconda3\n",
      "\n",
      "\n",
      "  added / updated specs:\n",
      "    - r-irkernel\n",
      "\n",
      "\n",
      "The following packages will be downloaded:\n",
      "\n",
      "    package                    |            build\n",
      "    ---------------------------|-----------------\n",
      "    _r-mutex-1.0.0             |      anacondar_1           3 KB\n",
      "    conda-22.9.0               |   py39haa95532_0         888 KB\n",
      "    conda-build-3.22.0         |   py39haa95532_0         541 KB\n",
      "    m2-msys2-runtime-2.5.0.17080.65c939c|                3         3.0 MB\n",
      "    m2-patch-2.7.5             |                2          89 KB\n",
      "    m2w64-bwidget-1.9.10       |                2         153 KB\n",
      "    m2w64-bzip2-1.0.6          |                6         100 KB\n",
      "    m2w64-expat-2.1.1          |                2         160 KB\n",
      "    m2w64-fftw-3.3.4           |                6         5.4 MB\n",
      "    m2w64-flac-1.3.1           |                3         872 KB\n",
      "    m2w64-gcc-libgfortran-5.3.0|                6         340 KB\n",
      "    m2w64-gcc-libs-5.3.0       |                7         518 KB\n",
      "    m2w64-gcc-libs-core-5.3.0  |                7         213 KB\n",
      "    m2w64-gettext-0.19.7       |                2         4.2 MB\n",
      "    m2w64-gmp-6.1.0            |                2         689 KB\n",
      "    m2w64-gsl-2.1              |                2         2.4 MB\n",
      "    m2w64-libiconv-1.14        |                6         1.5 MB\n",
      "    m2w64-libjpeg-turbo-1.4.2  |                3         656 KB\n",
      "    m2w64-libogg-1.3.2         |                3         205 KB\n",
      "    m2w64-libpng-1.6.21        |                2         399 KB\n",
      "    m2w64-libsndfile-1.0.26    |                2         549 KB\n",
      "    m2w64-libsodium-1.0.10     |                2         360 KB\n",
      "    m2w64-libtiff-4.0.6        |                2         1.2 MB\n",
      "    m2w64-libvorbis-1.3.5      |                2         480 KB\n",
      "    m2w64-libxml2-2.9.3        |                4         2.1 MB\n",
      "    m2w64-mpfr-3.1.4           |                4         293 KB\n",
      "    m2w64-openblas-0.2.19      |                1        14.0 MB\n",
      "    m2w64-pcre-8.38            |                2         1.2 MB\n",
      "    m2w64-speex-1.2rc2         |                3         593 KB\n",
      "    m2w64-speexdsp-1.2rc3      |                3         514 KB\n",
      "    m2w64-tcl-8.6.5            |                3         3.9 MB\n",
      "    m2w64-tk-8.6.5             |                3         2.2 MB\n",
      "    m2w64-tktable-2.10         |                5         112 KB\n",
      "    m2w64-wineditline-2.101    |                5          46 KB\n",
      "    m2w64-xz-5.2.2             |                2         395 KB\n",
      "    m2w64-zeromq-4.1.4         |                2         1.8 MB\n",
      "    m2w64-zlib-1.2.8           |               10         197 KB\n",
      "    r-base-3.6.1               |       hf18239d_1        55.3 MB  r\n",
      "    r-base64enc-0.1_3          |    r36h6115d3f_4          39 KB  r\n",
      "    r-crayon-1.3.4             |    r36h6115d3f_0         757 KB  r\n",
      "    r-digest-0.6.18            |    r36h6115d3f_0         154 KB  r\n",
      "    r-evaluate-0.13            |    r36h6115d3f_0          83 KB  r\n",
      "    r-htmltools-0.3.6          |    r36h6115d3f_0         199 KB  r\n",
      "    r-irdisplay-0.7.0          |    r36h6115d3f_0          38 KB  r\n",
      "    r-irkernel-0.8.15          |            r36_0         148 KB  r\n",
      "    r-jsonlite-1.6             |    r36h6115d3f_0         1.1 MB  r\n",
      "    r-pbdzmq-0.3_3             |    r36h6115d3f_0         572 KB  r\n",
      "    r-rcpp-1.0.1               |    r36h6115d3f_0         3.3 MB  r\n",
      "    r-repr-0.19.2              |    r36h6115d3f_0         143 KB  r\n",
      "    r-uuid-0.1_2               |    r36h6115d3f_4          25 KB  r\n",
      "    ------------------------------------------------------------\n",
      "                                           Total:       113.9 MB\n",
      "\n",
      "The following NEW packages will be INSTALLED:\n",
      "\n",
      "  _r-mutex           pkgs/r/win-64::_r-mutex-1.0.0-anacondar_1\n",
      "  m2-msys2-runtime   pkgs/msys2/win-64::m2-msys2-runtime-2.5.0.17080.65c939c-3\n",
      "  m2-patch           pkgs/msys2/win-64::m2-patch-2.7.5-2\n",
      "  m2w64-bwidget      pkgs/msys2/win-64::m2w64-bwidget-1.9.10-2\n",
      "  m2w64-bzip2        pkgs/msys2/win-64::m2w64-bzip2-1.0.6-6\n",
      "  m2w64-expat        pkgs/msys2/win-64::m2w64-expat-2.1.1-2\n",
      "  m2w64-fftw         pkgs/msys2/win-64::m2w64-fftw-3.3.4-6\n",
      "  m2w64-flac         pkgs/msys2/win-64::m2w64-flac-1.3.1-3\n",
      "  m2w64-gcc-libgfor~ pkgs/msys2/win-64::m2w64-gcc-libgfortran-5.3.0-6\n",
      "  m2w64-gcc-libs     pkgs/msys2/win-64::m2w64-gcc-libs-5.3.0-7\n",
      "  m2w64-gcc-libs-co~ pkgs/msys2/win-64::m2w64-gcc-libs-core-5.3.0-7\n",
      "  m2w64-gettext      pkgs/msys2/win-64::m2w64-gettext-0.19.7-2\n",
      "  m2w64-gmp          pkgs/msys2/win-64::m2w64-gmp-6.1.0-2\n",
      "  m2w64-gsl          pkgs/msys2/win-64::m2w64-gsl-2.1-2\n",
      "  m2w64-libiconv     pkgs/msys2/win-64::m2w64-libiconv-1.14-6\n",
      "  m2w64-libjpeg-tur~ pkgs/msys2/win-64::m2w64-libjpeg-turbo-1.4.2-3\n",
      "  m2w64-libogg       pkgs/msys2/win-64::m2w64-libogg-1.3.2-3\n",
      "  m2w64-libpng       pkgs/msys2/win-64::m2w64-libpng-1.6.21-2\n",
      "  m2w64-libsndfile   pkgs/msys2/win-64::m2w64-libsndfile-1.0.26-2\n",
      "  m2w64-libsodium    pkgs/msys2/win-64::m2w64-libsodium-1.0.10-2\n",
      "  m2w64-libtiff      pkgs/msys2/win-64::m2w64-libtiff-4.0.6-2\n",
      "  m2w64-libvorbis    pkgs/msys2/win-64::m2w64-libvorbis-1.3.5-2\n",
      "  m2w64-libxml2      pkgs/msys2/win-64::m2w64-libxml2-2.9.3-4\n",
      "  m2w64-mpfr         pkgs/msys2/win-64::m2w64-mpfr-3.1.4-4\n",
      "  m2w64-openblas     pkgs/msys2/win-64::m2w64-openblas-0.2.19-1\n",
      "  m2w64-pcre         pkgs/msys2/win-64::m2w64-pcre-8.38-2\n",
      "  m2w64-speex        pkgs/msys2/win-64::m2w64-speex-1.2rc2-3\n",
      "  m2w64-speexdsp     pkgs/msys2/win-64::m2w64-speexdsp-1.2rc3-3\n",
      "  m2w64-tcl          pkgs/msys2/win-64::m2w64-tcl-8.6.5-3\n",
      "  m2w64-tk           pkgs/msys2/win-64::m2w64-tk-8.6.5-3\n",
      "  m2w64-tktable      pkgs/msys2/win-64::m2w64-tktable-2.10-5\n",
      "  m2w64-wineditline  pkgs/msys2/win-64::m2w64-wineditline-2.101-5\n",
      "  m2w64-xz           pkgs/msys2/win-64::m2w64-xz-5.2.2-2\n",
      "  m2w64-zeromq       pkgs/msys2/win-64::m2w64-zeromq-4.1.4-2\n",
      "  m2w64-zlib         pkgs/msys2/win-64::m2w64-zlib-1.2.8-10\n",
      "  r-base             r/win-64::r-base-3.6.1-hf18239d_1\n",
      "  r-base64enc        r/win-64::r-base64enc-0.1_3-r36h6115d3f_4\n",
      "  r-crayon           r/noarch::r-crayon-1.3.4-r36h6115d3f_0\n",
      "  r-digest           r/win-64::r-digest-0.6.18-r36h6115d3f_0\n",
      "  r-evaluate         r/noarch::r-evaluate-0.13-r36h6115d3f_0\n",
      "  r-htmltools        r/win-64::r-htmltools-0.3.6-r36h6115d3f_0\n",
      "  r-irdisplay        r/noarch::r-irdisplay-0.7.0-r36h6115d3f_0\n",
      "  r-irkernel         r/noarch::r-irkernel-0.8.15-r36_0\n",
      "  r-jsonlite         r/win-64::r-jsonlite-1.6-r36h6115d3f_0\n",
      "  r-pbdzmq           r/win-64::r-pbdzmq-0.3_3-r36h6115d3f_0\n",
      "  r-rcpp             r/win-64::r-rcpp-1.0.1-r36h6115d3f_0\n",
      "  r-repr             r/noarch::r-repr-0.19.2-r36h6115d3f_0\n",
      "  r-uuid             r/win-64::r-uuid-0.1_2-r36h6115d3f_4\n",
      "\n",
      "The following packages will be UPDATED:\n",
      "\n",
      "  conda                               4.14.0-py39haa95532_0 --> 22.9.0-py39haa95532_0\n",
      "  conda-build                         3.21.8-py39haa95532_2 --> 3.22.0-py39haa95532_0\n",
      "\n",
      "\n",
      "\n",
      "Downloading and Extracting Packages\n",
      "\n",
      "r-base64enc-0.1_3    | 39 KB     |            |   0% \n",
      "r-base64enc-0.1_3    | 39 KB     | ####1      |  41% \n",
      "r-base64enc-0.1_3    | 39 KB     | ########## | 100% \n",
      "r-base64enc-0.1_3    | 39 KB     | ########## | 100% \n",
      "\n",
      "_r-mutex-1.0.0       | 3 KB      |            |   0% \n",
      "_r-mutex-1.0.0       | 3 KB      | ########## | 100% \n",
      "_r-mutex-1.0.0       | 3 KB      | ########## | 100% \n",
      "\n",
      "m2w64-speex-1.2rc2   | 593 KB    |            |   0% \n",
      "m2w64-speex-1.2rc2   | 593 KB    | 2          |   3% \n",
      "m2w64-speex-1.2rc2   | 593 KB    | ########6  |  86% \n",
      "m2w64-speex-1.2rc2   | 593 KB    | ########## | 100% \n",
      "\n",
      "m2w64-speexdsp-1.2rc | 514 KB    |            |   0% \n",
      "m2w64-speexdsp-1.2rc | 514 KB    | 3          |   3% \n",
      "m2w64-speexdsp-1.2rc | 514 KB    | ########## | 100% \n",
      "m2w64-speexdsp-1.2rc | 514 KB    | ########## | 100% \n",
      "\n",
      "m2w64-gmp-6.1.0      | 689 KB    |            |   0% \n",
      "m2w64-gmp-6.1.0      | 689 KB    | ######     |  60% \n",
      "m2w64-gmp-6.1.0      | 689 KB    | ########## | 100% \n",
      "\n",
      "m2w64-tk-8.6.5       | 2.2 MB    |            |   0% \n",
      "m2w64-tk-8.6.5       | 2.2 MB    | 5          |   6% \n",
      "m2w64-tk-8.6.5       | 2.2 MB    | ######1    |  62% \n",
      "m2w64-tk-8.6.5       | 2.2 MB    | ########## | 100% \n",
      "m2w64-tk-8.6.5       | 2.2 MB    | ########## | 100% \n",
      "\n",
      "r-irdisplay-0.7.0    | 38 KB     |            |   0% \n",
      "r-irdisplay-0.7.0    | 38 KB     | ####2      |  42% \n",
      "r-irdisplay-0.7.0    | 38 KB     | ########## | 100% \n",
      "r-irdisplay-0.7.0    | 38 KB     | ########## | 100% \n",
      "\n",
      "m2w64-flac-1.3.1     | 872 KB    |            |   0% \n",
      "m2w64-flac-1.3.1     | 872 KB    | 1          |   2% \n",
      "m2w64-flac-1.3.1     | 872 KB    | ########## | 100% \n",
      "m2w64-flac-1.3.1     | 872 KB    | ########## | 100% \n",
      "\n",
      "conda-build-3.22.0   | 541 KB    |            |   0% \n",
      "conda-build-3.22.0   | 541 KB    | ######8    |  68% \n",
      "conda-build-3.22.0   | 541 KB    | ########## | 100% \n",
      "\n",
      "m2w64-wineditline-2. | 46 KB     |            |   0% \n",
      "m2w64-wineditline-2. | 46 KB     | ###4       |  35% \n",
      "m2w64-wineditline-2. | 46 KB     | ########## | 100% \n",
      "m2w64-wineditline-2. | 46 KB     | ########## | 100% \n",
      "\n",
      "r-crayon-1.3.4       | 757 KB    |            |   0% \n",
      "r-crayon-1.3.4       | 757 KB    | 2          |   2% \n",
      "r-crayon-1.3.4       | 757 KB    | #######6   |  76% \n",
      "r-crayon-1.3.4       | 757 KB    | ########## | 100% \n",
      "\n",
      "r-digest-0.6.18      | 154 KB    |            |   0% \n",
      "r-digest-0.6.18      | 154 KB    | ######2    |  62% \n",
      "r-digest-0.6.18      | 154 KB    | ########## | 100% \n",
      "\n",
      "r-repr-0.19.2        | 143 KB    |            |   0% \n",
      "r-repr-0.19.2        | 143 KB    | ########## | 100% \n",
      "r-repr-0.19.2        | 143 KB    | ########## | 100% \n",
      "\n",
      "m2w64-mpfr-3.1.4     | 293 KB    |            |   0% \n",
      "m2w64-mpfr-3.1.4     | 293 KB    | 5          |   5% \n",
      "m2w64-mpfr-3.1.4     | 293 KB    | ########## | 100% \n",
      "m2w64-mpfr-3.1.4     | 293 KB    | ########## | 100% \n",
      "\n",
      "m2w64-pcre-8.38      | 1.2 MB    |            |   0% \n",
      "m2w64-pcre-8.38      | 1.2 MB    | ###8       |  38% \n",
      "m2w64-pcre-8.38      | 1.2 MB    | ########## | 100% \n",
      "m2w64-pcre-8.38      | 1.2 MB    | ########## | 100% \n",
      "\n",
      "m2w64-libpng-1.6.21  | 399 KB    |            |   0% \n",
      "m2w64-libpng-1.6.21  | 399 KB    | ########## | 100% \n",
      "m2w64-libpng-1.6.21  | 399 KB    | ########## | 100% \n",
      "\n",
      "m2-msys2-runtime-2.5 | 3.0 MB    |            |   0% \n",
      "m2-msys2-runtime-2.5 | 3.0 MB    | #2         |  12% \n",
      "m2-msys2-runtime-2.5 | 3.0 MB    | ######5    |  66% \n",
      "m2-msys2-runtime-2.5 | 3.0 MB    | ########## | 100% \n",
      "\n",
      "r-pbdzmq-0.3_3       | 572 KB    |            |   0% \n",
      "r-pbdzmq-0.3_3       | 572 KB    | 2          |   3% \n",
      "r-pbdzmq-0.3_3       | 572 KB    | ########## | 100% \n",
      "r-pbdzmq-0.3_3       | 572 KB    | ########## | 100% \n",
      "\n",
      "m2w64-libtiff-4.0.6  | 1.2 MB    |            |   0% \n",
      "m2w64-libtiff-4.0.6  | 1.2 MB    | #          |  10% \n",
      "m2w64-libtiff-4.0.6  | 1.2 MB    | ########## | 100% \n",
      "m2w64-libtiff-4.0.6  | 1.2 MB    | ########## | 100% \n",
      "\n",
      "m2w64-libvorbis-1.3. | 480 KB    |            |   0% \n",
      "m2w64-libvorbis-1.3. | 480 KB    | ##6        |  27% \n",
      "m2w64-libvorbis-1.3. | 480 KB    | ########## | 100% \n",
      "m2w64-libvorbis-1.3. | 480 KB    | ########## | 100% \n",
      "\n",
      "r-evaluate-0.13      | 83 KB     |            |   0% \n",
      "r-evaluate-0.13      | 83 KB     | #######7   |  77% \n",
      "r-evaluate-0.13      | 83 KB     | ########## | 100% \n",
      "\n",
      "m2w64-gcc-libs-core- | 213 KB    |            |   0% \n",
      "m2w64-gcc-libs-core- | 213 KB    | ########## | 100% \n",
      "m2w64-gcc-libs-core- | 213 KB    | ########## | 100% \n",
      "\n",
      "m2w64-tktable-2.10   | 112 KB    |            |   0% \n",
      "m2w64-tktable-2.10   | 112 KB    | #4         |  14% \n",
      "m2w64-tktable-2.10   | 112 KB    | ########## | 100% \n",
      "m2w64-tktable-2.10   | 112 KB    | ########## | 100% \n",
      "\n",
      "m2w64-libsodium-1.0. | 360 KB    |            |   0% \n",
      "m2w64-libsodium-1.0. | 360 KB    | 4          |   4% \n",
      "m2w64-libsodium-1.0. | 360 KB    | ########## | 100% \n",
      "m2w64-libsodium-1.0. | 360 KB    | ########## | 100% \n",
      "\n",
      "r-rcpp-1.0.1         | 3.3 MB    |            |   0% \n",
      "r-rcpp-1.0.1         | 3.3 MB    |            |   0% \n",
      "r-rcpp-1.0.1         | 3.3 MB    | ####5      |  45% \n",
      "r-rcpp-1.0.1         | 3.3 MB    | ########4  |  85% \n",
      "r-rcpp-1.0.1         | 3.3 MB    | ########## | 100% \n",
      "\n",
      "r-uuid-0.1_2         | 25 KB     |            |   0% \n",
      "r-uuid-0.1_2         | 25 KB     | ######3    |  63% \n",
      "r-uuid-0.1_2         | 25 KB     | ########## | 100% \n",
      "\n",
      "conda-22.9.0         | 888 KB    |            |   0% \n",
      "conda-22.9.0         | 888 KB    | 1          |   2% \n",
      "conda-22.9.0         | 888 KB    | ########## | 100% \n",
      "conda-22.9.0         | 888 KB    | ########## | 100% \n",
      "\n",
      "m2w64-gcc-libgfortra | 340 KB    |            |   0% \n",
      "m2w64-gcc-libgfortra | 340 KB    | #######5   |  75% \n",
      "m2w64-gcc-libgfortra | 340 KB    | ########## | 100% \n",
      "\n",
      "r-irkernel-0.8.15    | 148 KB    |            |   0% \n",
      "r-irkernel-0.8.15    | 148 KB    | #          |  11% \n",
      "r-irkernel-0.8.15    | 148 KB    | ########## | 100% \n",
      "r-irkernel-0.8.15    | 148 KB    | ########## | 100% \n",
      "\n",
      "r-base-3.6.1         | 55.3 MB   |            |   0% \n",
      "r-base-3.6.1         | 55.3 MB   |            |   0% \n",
      "r-base-3.6.1         | 55.3 MB   | 3          |   3% \n",
      "r-base-3.6.1         | 55.3 MB   | 4          |   5% \n",
      "r-base-3.6.1         | 55.3 MB   | 7          |   8% \n",
      "r-base-3.6.1         | 55.3 MB   | #1         |  11% \n",
      "r-base-3.6.1         | 55.3 MB   | #4         |  15% \n",
      "r-base-3.6.1         | 55.3 MB   | #7         |  18% \n",
      "r-base-3.6.1         | 55.3 MB   | ##         |  21% \n",
      "r-base-3.6.1         | 55.3 MB   | ##4        |  24% \n",
      "r-base-3.6.1         | 55.3 MB   | ##7        |  28% \n",
      "r-base-3.6.1         | 55.3 MB   | ###        |  31% \n",
      "r-base-3.6.1         | 55.3 MB   | ###4       |  34% \n",
      "r-base-3.6.1         | 55.3 MB   | ###7       |  38% \n",
      "r-base-3.6.1         | 55.3 MB   | ####1      |  42% \n",
      "r-base-3.6.1         | 55.3 MB   | ####4      |  45% \n",
      "r-base-3.6.1         | 55.3 MB   | ####8      |  48% \n",
      "r-base-3.6.1         | 55.3 MB   | #####1     |  52% \n",
      "r-base-3.6.1         | 55.3 MB   | #####5     |  55% \n",
      "r-base-3.6.1         | 55.3 MB   | #####8     |  58% \n",
      "r-base-3.6.1         | 55.3 MB   | ######1    |  62% \n",
      "r-base-3.6.1         | 55.3 MB   | ######5    |  65% \n",
      "r-base-3.6.1         | 55.3 MB   | ######9    |  69% \n",
      "r-base-3.6.1         | 55.3 MB   | #######2   |  72% \n",
      "r-base-3.6.1         | 55.3 MB   | #######7   |  78% \n",
      "r-base-3.6.1         | 55.3 MB   | ########2  |  82% \n",
      "r-base-3.6.1         | 55.3 MB   | ########5  |  86% \n",
      "r-base-3.6.1         | 55.3 MB   | #########  |  90% \n",
      "r-base-3.6.1         | 55.3 MB   | #########4 |  95% \n",
      "r-base-3.6.1         | 55.3 MB   | #########8 |  99% \n",
      "r-base-3.6.1         | 55.3 MB   | ########## | 100% \n",
      "\n",
      "m2w64-libiconv-1.14  | 1.5 MB    |            |   0% \n",
      "m2w64-libiconv-1.14  | 1.5 MB    | 6          |   6% \n",
      "m2w64-libiconv-1.14  | 1.5 MB    | ########## | 100% \n",
      "m2w64-libiconv-1.14  | 1.5 MB    | ########## | 100% \n",
      "\n",
      "m2w64-fftw-3.3.4     | 5.4 MB    |            |   0% \n",
      "m2w64-fftw-3.3.4     | 5.4 MB    | #2         |  13% \n",
      "m2w64-fftw-3.3.4     | 5.4 MB    | ####7      |  48% \n",
      "m2w64-fftw-3.3.4     | 5.4 MB    | ########   |  81% \n",
      "m2w64-fftw-3.3.4     | 5.4 MB    | ########## | 100% \n",
      "\n",
      "m2w64-libjpeg-turbo- | 656 KB    |            |   0% \n",
      "m2w64-libjpeg-turbo- | 656 KB    | 2          |   2% \n",
      "m2w64-libjpeg-turbo- | 656 KB    | ########## | 100% \n",
      "m2w64-libjpeg-turbo- | 656 KB    | ########## | 100% \n",
      "\n",
      "m2w64-zeromq-4.1.4   | 1.8 MB    |            |   0% \n",
      "m2w64-zeromq-4.1.4   | 1.8 MB    |            |   1% \n",
      "m2w64-zeromq-4.1.4   | 1.8 MB    | #########2 |  92% \n",
      "m2w64-zeromq-4.1.4   | 1.8 MB    | ########## | 100% \n",
      "\n",
      "m2w64-expat-2.1.1    | 160 KB    |            |   0% \n",
      "m2w64-expat-2.1.1    | 160 KB    | ########## | 100% \n",
      "m2w64-expat-2.1.1    | 160 KB    | ########## | 100% \n",
      "\n",
      "m2w64-libogg-1.3.2   | 205 KB    |            |   0% \n",
      "m2w64-libogg-1.3.2   | 205 KB    | 7          |   8% \n",
      "m2w64-libogg-1.3.2   | 205 KB    | ########## | 100% \n",
      "m2w64-libogg-1.3.2   | 205 KB    | ########## | 100% \n",
      "\n",
      "m2-patch-2.7.5       | 89 KB     |            |   0% \n",
      "m2-patch-2.7.5       | 89 KB     | ########## | 100% \n",
      "m2-patch-2.7.5       | 89 KB     | ########## | 100% \n",
      "\n",
      "m2w64-zlib-1.2.8     | 197 KB    |            |   0% \n",
      "m2w64-zlib-1.2.8     | 197 KB    | 8          |   8% \n",
      "m2w64-zlib-1.2.8     | 197 KB    | ########## | 100% \n",
      "m2w64-zlib-1.2.8     | 197 KB    | ########## | 100% \n",
      "\n",
      "m2w64-bwidget-1.9.10 | 153 KB    |            |   0% \n",
      "m2w64-bwidget-1.9.10 | 153 KB    | ########## | 100% \n",
      "m2w64-bwidget-1.9.10 | 153 KB    | ########## | 100% \n",
      "\n",
      "m2w64-gsl-2.1        | 2.4 MB    |            |   0% \n",
      "m2w64-gsl-2.1        | 2.4 MB    |            |   1% \n",
      "m2w64-gsl-2.1        | 2.4 MB    | #######7   |  78% \n",
      "m2w64-gsl-2.1        | 2.4 MB    | ########## | 100% \n",
      "\n",
      "m2w64-libsndfile-1.0 | 549 KB    |            |   0% \n",
      "m2w64-libsndfile-1.0 | 549 KB    | ########## | 100% \n",
      "m2w64-libsndfile-1.0 | 549 KB    | ########## | 100% \n",
      "\n",
      "m2w64-gcc-libs-5.3.0 | 518 KB    |            |   0% \n",
      "m2w64-gcc-libs-5.3.0 | 518 KB    | #####8     |  59% \n",
      "m2w64-gcc-libs-5.3.0 | 518 KB    | ########## | 100% \n",
      "\n",
      "m2w64-xz-5.2.2       | 395 KB    |            |   0% \n",
      "m2w64-xz-5.2.2       | 395 KB    | #######2   |  73% \n",
      "m2w64-xz-5.2.2       | 395 KB    | ########## | 100% \n",
      "\n",
      "m2w64-tcl-8.6.5      | 3.9 MB    |            |   0% \n",
      "m2w64-tcl-8.6.5      | 3.9 MB    |            |   0% \n",
      "m2w64-tcl-8.6.5      | 3.9 MB    | ####7      |  48% \n",
      "m2w64-tcl-8.6.5      | 3.9 MB    | ########## | 100% \n",
      "m2w64-tcl-8.6.5      | 3.9 MB    | ########## | 100% \n",
      "\n",
      "m2w64-libxml2-2.9.3  | 2.1 MB    |            |   0% \n",
      "m2w64-libxml2-2.9.3  | 2.1 MB    |            |   1% \n",
      "m2w64-libxml2-2.9.3  | 2.1 MB    | ########6  |  86% \n",
      "m2w64-libxml2-2.9.3  | 2.1 MB    | ########## | 100% \n",
      "\n",
      "r-jsonlite-1.6       | 1.1 MB    |            |   0% \n",
      "r-jsonlite-1.6       | 1.1 MB    | 1          |   1% \n",
      "r-jsonlite-1.6       | 1.1 MB    | ########## | 100% \n",
      "r-jsonlite-1.6       | 1.1 MB    | ########## | 100% \n",
      "\n",
      "m2w64-bzip2-1.0.6    | 100 KB    |            |   0% \n",
      "m2w64-bzip2-1.0.6    | 100 KB    | #5         |  16% \n",
      "m2w64-bzip2-1.0.6    | 100 KB    | ########## | 100% \n",
      "m2w64-bzip2-1.0.6    | 100 KB    | ########## | 100% \n",
      "\n",
      "r-htmltools-0.3.6    | 199 KB    |            |   0% \n",
      "r-htmltools-0.3.6    | 199 KB    | 8          |   8% \n",
      "r-htmltools-0.3.6    | 199 KB    | ########## | 100% \n",
      "r-htmltools-0.3.6    | 199 KB    | ########## | 100% \n",
      "\n",
      "m2w64-gettext-0.19.7 | 4.2 MB    |            |   0% \n",
      "m2w64-gettext-0.19.7 | 4.2 MB    | 7          |   7% \n",
      "m2w64-gettext-0.19.7 | 4.2 MB    | #####1     |  51% \n",
      "m2w64-gettext-0.19.7 | 4.2 MB    | ########1  |  81% \n",
      "m2w64-gettext-0.19.7 | 4.2 MB    | ########## | 100% \n",
      "\n",
      "m2w64-openblas-0.2.1 | 14.0 MB   |            |   0% \n",
      "m2w64-openblas-0.2.1 | 14.0 MB   |            |   0% \n",
      "m2w64-openblas-0.2.1 | 14.0 MB   | #3         |  14% \n",
      "m2w64-openblas-0.2.1 | 14.0 MB   | ##1        |  21% \n",
      "m2w64-openblas-0.2.1 | 14.0 MB   | ###2       |  33% \n",
      "m2w64-openblas-0.2.1 | 14.0 MB   | ####7      |  47% \n",
      "m2w64-openblas-0.2.1 | 14.0 MB   | #####9     |  59% \n",
      "m2w64-openblas-0.2.1 | 14.0 MB   | #######1   |  71% \n",
      "m2w64-openblas-0.2.1 | 14.0 MB   | ########5  |  85% \n",
      "m2w64-openblas-0.2.1 | 14.0 MB   | #########9 |  99% \n",
      "m2w64-openblas-0.2.1 | 14.0 MB   | ########## | 100% \n",
      "Preparing transaction: ...working... done\n",
      "Verifying transaction: ...working... done\n",
      "Executing transaction: ...working... done\n",
      "Retrieving notices: ...working... done\n"
     ]
    }
   ],
   "source": [
    "conda install -c r r-irkernel"
   ]
  },
  {
   "cell_type": "code",
   "execution_count": 25,
   "metadata": {
    "slideshow": {
     "slide_type": "slide"
    }
   },
   "outputs": [
    {
     "name": "stderr",
     "output_type": "stream",
     "text": [
      "'brew' is not recognized as an internal or external command,\n",
      "operable program or batch file.\n"
     ]
    }
   ],
   "source": [
    "#First, make sure you have R installed ... this could take a while ;P\n",
    "!brew install R"
   ]
  },
  {
   "cell_type": "code",
   "execution_count": 14,
   "metadata": {
    "slideshow": {
     "slide_type": "fragment"
    }
   },
   "outputs": [
    {
     "name": "stdout",
     "output_type": "stream",
     "text": [
      "Requirement already satisfied: rpy2 in c:\\users\\lf8021ll\\anaconda3\\lib\\site-packages (3.1.0)\n",
      "Requirement already satisfied: simplegeneric in c:\\users\\lf8021ll\\anaconda3\\lib\\site-packages (from rpy2) (0.8.1)\n",
      "Requirement already satisfied: pytest in c:\\users\\lf8021ll\\anaconda3\\lib\\site-packages (from rpy2) (7.1.1)\n",
      "Requirement already satisfied: pytz in c:\\users\\lf8021ll\\anaconda3\\lib\\site-packages (from rpy2) (2021.3)\n",
      "Requirement already satisfied: cffi>=1.0.0 in c:\\users\\lf8021ll\\anaconda3\\lib\\site-packages (from rpy2) (1.15.0)\n",
      "Requirement already satisfied: tzlocal in c:\\users\\lf8021ll\\anaconda3\\lib\\site-packages (from rpy2) (4.2)\n",
      "Requirement already satisfied: jinja2 in c:\\users\\lf8021ll\\anaconda3\\lib\\site-packages (from rpy2) (2.11.3)\n",
      "Requirement already satisfied: pycparser in c:\\users\\lf8021ll\\anaconda3\\lib\\site-packages (from cffi>=1.0.0->rpy2) (2.21)\n",
      "Requirement already satisfied: MarkupSafe>=0.23 in c:\\users\\lf8021ll\\anaconda3\\lib\\site-packages (from jinja2->rpy2) (2.0.1)\n",
      "Requirement already satisfied: attrs>=19.2.0 in c:\\users\\lf8021ll\\anaconda3\\lib\\site-packages (from pytest->rpy2) (21.4.0)\n",
      "Requirement already satisfied: iniconfig in c:\\users\\lf8021ll\\anaconda3\\lib\\site-packages (from pytest->rpy2) (1.1.1)\n",
      "Requirement already satisfied: packaging in c:\\users\\lf8021ll\\anaconda3\\lib\\site-packages (from pytest->rpy2) (21.3)\n",
      "Requirement already satisfied: pluggy<2.0,>=0.12 in c:\\users\\lf8021ll\\anaconda3\\lib\\site-packages (from pytest->rpy2) (1.0.0)\n",
      "Requirement already satisfied: py>=1.8.2 in c:\\users\\lf8021ll\\anaconda3\\lib\\site-packages (from pytest->rpy2) (1.11.0)\n",
      "Requirement already satisfied: tomli>=1.0.0 in c:\\users\\lf8021ll\\anaconda3\\lib\\site-packages (from pytest->rpy2) (1.2.2)\n",
      "Requirement already satisfied: atomicwrites>=1.0 in c:\\users\\lf8021ll\\anaconda3\\lib\\site-packages (from pytest->rpy2) (1.4.0)\n",
      "Requirement already satisfied: colorama in c:\\users\\lf8021ll\\anaconda3\\lib\\site-packages (from pytest->rpy2) (0.4.4)\n",
      "Requirement already satisfied: pyparsing!=3.0.5,>=2.0.2 in c:\\users\\lf8021ll\\anaconda3\\lib\\site-packages (from packaging->pytest->rpy2) (3.0.4)\n",
      "Requirement already satisfied: pytz-deprecation-shim in c:\\users\\lf8021ll\\anaconda3\\lib\\site-packages (from tzlocal->rpy2) (0.1.0.post0)\n",
      "Requirement already satisfied: tzdata in c:\\users\\lf8021ll\\anaconda3\\lib\\site-packages (from tzlocal->rpy2) (2022.4)\n"
     ]
    }
   ],
   "source": [
    "# Next, we install rpy2 to allow running R code in a notebook\n",
    "!pip install rpy2"
   ]
  },
  {
   "cell_type": "code",
   "execution_count": 15,
   "metadata": {
    "slideshow": {
     "slide_type": "fragment"
    }
   },
   "outputs": [
    {
     "ename": "ValueError",
     "evalue": "The system \"%s\" is not supported.",
     "output_type": "error",
     "traceback": [
      "\u001b[1;31m---------------------------------------------------------------------------\u001b[0m",
      "\u001b[1;31mValueError\u001b[0m                                Traceback (most recent call last)",
      "Input \u001b[1;32mIn [15]\u001b[0m, in \u001b[0;36m<cell line: 3>\u001b[1;34m()\u001b[0m\n\u001b[0;32m      1\u001b[0m \u001b[38;5;66;03m#Load rpy2 and R magic commands\u001b[39;00m\n\u001b[0;32m      2\u001b[0m \u001b[38;5;28;01mimport\u001b[39;00m \u001b[38;5;21;01mrpy2\u001b[39;00m\n\u001b[1;32m----> 3\u001b[0m \u001b[43mget_ipython\u001b[49m\u001b[43m(\u001b[49m\u001b[43m)\u001b[49m\u001b[38;5;241;43m.\u001b[39;49m\u001b[43mrun_line_magic\u001b[49m\u001b[43m(\u001b[49m\u001b[38;5;124;43m'\u001b[39;49m\u001b[38;5;124;43mload_ext\u001b[39;49m\u001b[38;5;124;43m'\u001b[39;49m\u001b[43m,\u001b[49m\u001b[43m \u001b[49m\u001b[38;5;124;43m'\u001b[39;49m\u001b[38;5;124;43mrpy2.ipython\u001b[39;49m\u001b[38;5;124;43m'\u001b[39;49m\u001b[43m)\u001b[49m\n",
      "File \u001b[1;32m~\\Anaconda3\\lib\\site-packages\\IPython\\core\\interactiveshell.py:2294\u001b[0m, in \u001b[0;36mInteractiveShell.run_line_magic\u001b[1;34m(self, magic_name, line, _stack_depth)\u001b[0m\n\u001b[0;32m   2292\u001b[0m     kwargs[\u001b[38;5;124m'\u001b[39m\u001b[38;5;124mlocal_ns\u001b[39m\u001b[38;5;124m'\u001b[39m] \u001b[38;5;241m=\u001b[39m \u001b[38;5;28mself\u001b[39m\u001b[38;5;241m.\u001b[39mget_local_scope(stack_depth)\n\u001b[0;32m   2293\u001b[0m \u001b[38;5;28;01mwith\u001b[39;00m \u001b[38;5;28mself\u001b[39m\u001b[38;5;241m.\u001b[39mbuiltin_trap:\n\u001b[1;32m-> 2294\u001b[0m     result \u001b[38;5;241m=\u001b[39m fn(\u001b[38;5;241m*\u001b[39margs, \u001b[38;5;241m*\u001b[39m\u001b[38;5;241m*\u001b[39mkwargs)\n\u001b[0;32m   2295\u001b[0m \u001b[38;5;28;01mreturn\u001b[39;00m result\n",
      "File \u001b[1;32m~\\Anaconda3\\lib\\site-packages\\IPython\\core\\magics\\extension.py:33\u001b[0m, in \u001b[0;36mExtensionMagics.load_ext\u001b[1;34m(self, module_str)\u001b[0m\n\u001b[0;32m     31\u001b[0m \u001b[38;5;28;01mif\u001b[39;00m \u001b[38;5;129;01mnot\u001b[39;00m module_str:\n\u001b[0;32m     32\u001b[0m     \u001b[38;5;28;01mraise\u001b[39;00m UsageError(\u001b[38;5;124m'\u001b[39m\u001b[38;5;124mMissing module name.\u001b[39m\u001b[38;5;124m'\u001b[39m)\n\u001b[1;32m---> 33\u001b[0m res \u001b[38;5;241m=\u001b[39m \u001b[38;5;28;43mself\u001b[39;49m\u001b[38;5;241;43m.\u001b[39;49m\u001b[43mshell\u001b[49m\u001b[38;5;241;43m.\u001b[39;49m\u001b[43mextension_manager\u001b[49m\u001b[38;5;241;43m.\u001b[39;49m\u001b[43mload_extension\u001b[49m\u001b[43m(\u001b[49m\u001b[43mmodule_str\u001b[49m\u001b[43m)\u001b[49m\n\u001b[0;32m     35\u001b[0m \u001b[38;5;28;01mif\u001b[39;00m res \u001b[38;5;241m==\u001b[39m \u001b[38;5;124m'\u001b[39m\u001b[38;5;124malready loaded\u001b[39m\u001b[38;5;124m'\u001b[39m:\n\u001b[0;32m     36\u001b[0m     \u001b[38;5;28mprint\u001b[39m(\u001b[38;5;124m\"\u001b[39m\u001b[38;5;124mThe \u001b[39m\u001b[38;5;132;01m%s\u001b[39;00m\u001b[38;5;124m extension is already loaded. To reload it, use:\u001b[39m\u001b[38;5;124m\"\u001b[39m \u001b[38;5;241m%\u001b[39m module_str)\n",
      "File \u001b[1;32m~\\Anaconda3\\lib\\site-packages\\IPython\\core\\extensions.py:76\u001b[0m, in \u001b[0;36mExtensionManager.load_extension\u001b[1;34m(self, module_str)\u001b[0m\n\u001b[0;32m     69\u001b[0m \u001b[38;5;124;03m\"\"\"Load an IPython extension by its module name.\u001b[39;00m\n\u001b[0;32m     70\u001b[0m \n\u001b[0;32m     71\u001b[0m \u001b[38;5;124;03mReturns the string \"already loaded\" if the extension is already loaded,\u001b[39;00m\n\u001b[0;32m     72\u001b[0m \u001b[38;5;124;03m\"no load function\" if the module doesn't have a load_ipython_extension\u001b[39;00m\n\u001b[0;32m     73\u001b[0m \u001b[38;5;124;03mfunction, or None if it succeeded.\u001b[39;00m\n\u001b[0;32m     74\u001b[0m \u001b[38;5;124;03m\"\"\"\u001b[39;00m\n\u001b[0;32m     75\u001b[0m \u001b[38;5;28;01mtry\u001b[39;00m:\n\u001b[1;32m---> 76\u001b[0m     \u001b[38;5;28;01mreturn\u001b[39;00m \u001b[38;5;28;43mself\u001b[39;49m\u001b[38;5;241;43m.\u001b[39;49m\u001b[43m_load_extension\u001b[49m\u001b[43m(\u001b[49m\u001b[43mmodule_str\u001b[49m\u001b[43m)\u001b[49m\n\u001b[0;32m     77\u001b[0m \u001b[38;5;28;01mexcept\u001b[39;00m \u001b[38;5;167;01mModuleNotFoundError\u001b[39;00m:\n\u001b[0;32m     78\u001b[0m     \u001b[38;5;28;01mif\u001b[39;00m module_str \u001b[38;5;129;01min\u001b[39;00m BUILTINS_EXTS:\n",
      "File \u001b[1;32m~\\Anaconda3\\lib\\site-packages\\IPython\\core\\extensions.py:92\u001b[0m, in \u001b[0;36mExtensionManager._load_extension\u001b[1;34m(self, module_str)\u001b[0m\n\u001b[0;32m     90\u001b[0m \u001b[38;5;28;01mif\u001b[39;00m module_str \u001b[38;5;129;01mnot\u001b[39;00m \u001b[38;5;129;01min\u001b[39;00m sys\u001b[38;5;241m.\u001b[39mmodules:\n\u001b[0;32m     91\u001b[0m     \u001b[38;5;28;01mwith\u001b[39;00m prepended_to_syspath(\u001b[38;5;28mself\u001b[39m\u001b[38;5;241m.\u001b[39mipython_extension_dir):\n\u001b[1;32m---> 92\u001b[0m         mod \u001b[38;5;241m=\u001b[39m \u001b[43mimport_module\u001b[49m\u001b[43m(\u001b[49m\u001b[43mmodule_str\u001b[49m\u001b[43m)\u001b[49m\n\u001b[0;32m     93\u001b[0m         \u001b[38;5;28;01mif\u001b[39;00m mod\u001b[38;5;241m.\u001b[39m\u001b[38;5;18m__file__\u001b[39m\u001b[38;5;241m.\u001b[39mstartswith(\u001b[38;5;28mself\u001b[39m\u001b[38;5;241m.\u001b[39mipython_extension_dir):\n\u001b[0;32m     94\u001b[0m             \u001b[38;5;28mprint\u001b[39m((\u001b[38;5;124m\"\u001b[39m\u001b[38;5;124mLoading extensions from \u001b[39m\u001b[38;5;132;01m{dir}\u001b[39;00m\u001b[38;5;124m is deprecated. \u001b[39m\u001b[38;5;124m\"\u001b[39m\n\u001b[0;32m     95\u001b[0m                    \u001b[38;5;124m\"\u001b[39m\u001b[38;5;124mWe recommend managing extensions like any \u001b[39m\u001b[38;5;124m\"\u001b[39m\n\u001b[0;32m     96\u001b[0m                    \u001b[38;5;124m\"\u001b[39m\u001b[38;5;124mother Python packages, in site-packages.\u001b[39m\u001b[38;5;124m\"\u001b[39m)\u001b[38;5;241m.\u001b[39mformat(\n\u001b[0;32m     97\u001b[0m                   \u001b[38;5;28mdir\u001b[39m\u001b[38;5;241m=\u001b[39mcompress_user(\u001b[38;5;28mself\u001b[39m\u001b[38;5;241m.\u001b[39mipython_extension_dir)))\n",
      "File \u001b[1;32m~\\Anaconda3\\lib\\importlib\\__init__.py:127\u001b[0m, in \u001b[0;36mimport_module\u001b[1;34m(name, package)\u001b[0m\n\u001b[0;32m    125\u001b[0m             \u001b[38;5;28;01mbreak\u001b[39;00m\n\u001b[0;32m    126\u001b[0m         level \u001b[38;5;241m+\u001b[39m\u001b[38;5;241m=\u001b[39m \u001b[38;5;241m1\u001b[39m\n\u001b[1;32m--> 127\u001b[0m \u001b[38;5;28;01mreturn\u001b[39;00m \u001b[43m_bootstrap\u001b[49m\u001b[38;5;241;43m.\u001b[39;49m\u001b[43m_gcd_import\u001b[49m\u001b[43m(\u001b[49m\u001b[43mname\u001b[49m\u001b[43m[\u001b[49m\u001b[43mlevel\u001b[49m\u001b[43m:\u001b[49m\u001b[43m]\u001b[49m\u001b[43m,\u001b[49m\u001b[43m \u001b[49m\u001b[43mpackage\u001b[49m\u001b[43m,\u001b[49m\u001b[43m \u001b[49m\u001b[43mlevel\u001b[49m\u001b[43m)\u001b[49m\n",
      "File \u001b[1;32m<frozen importlib._bootstrap>:1030\u001b[0m, in \u001b[0;36m_gcd_import\u001b[1;34m(name, package, level)\u001b[0m\n",
      "File \u001b[1;32m<frozen importlib._bootstrap>:1007\u001b[0m, in \u001b[0;36m_find_and_load\u001b[1;34m(name, import_)\u001b[0m\n",
      "File \u001b[1;32m<frozen importlib._bootstrap>:986\u001b[0m, in \u001b[0;36m_find_and_load_unlocked\u001b[1;34m(name, import_)\u001b[0m\n",
      "File \u001b[1;32m<frozen importlib._bootstrap>:680\u001b[0m, in \u001b[0;36m_load_unlocked\u001b[1;34m(spec)\u001b[0m\n",
      "File \u001b[1;32m<frozen importlib._bootstrap_external>:850\u001b[0m, in \u001b[0;36mexec_module\u001b[1;34m(self, module)\u001b[0m\n",
      "File \u001b[1;32m<frozen importlib._bootstrap>:228\u001b[0m, in \u001b[0;36m_call_with_frames_removed\u001b[1;34m(f, *args, **kwds)\u001b[0m\n",
      "File \u001b[1;32m~\\Anaconda3\\lib\\site-packages\\rpy2\\ipython\\__init__.py:1\u001b[0m, in \u001b[0;36m<module>\u001b[1;34m\u001b[0m\n\u001b[1;32m----> 1\u001b[0m \u001b[38;5;28;01mfrom\u001b[39;00m \u001b[38;5;21;01m.\u001b[39;00m \u001b[38;5;28;01mimport\u001b[39;00m rmagic\n\u001b[0;32m      3\u001b[0m load_ipython_extension \u001b[38;5;241m=\u001b[39m rmagic\u001b[38;5;241m.\u001b[39mload_ipython_extension\n",
      "File \u001b[1;32m~\\Anaconda3\\lib\\site-packages\\rpy2\\ipython\\rmagic.py:55\u001b[0m, in \u001b[0;36m<module>\u001b[1;34m\u001b[0m\n\u001b[0;32m     51\u001b[0m \u001b[38;5;28;01mimport\u001b[39;00m \u001b[38;5;21;01mtextwrap\u001b[39;00m\n\u001b[0;32m     53\u001b[0m \u001b[38;5;66;03m# numpy and rpy2 imports\u001b[39;00m\n\u001b[1;32m---> 55\u001b[0m \u001b[38;5;28;01mimport\u001b[39;00m \u001b[38;5;21;01mrpy2\u001b[39;00m\u001b[38;5;21;01m.\u001b[39;00m\u001b[38;5;21;01mrinterface\u001b[39;00m \u001b[38;5;28;01mas\u001b[39;00m \u001b[38;5;21;01mri\u001b[39;00m\n\u001b[0;32m     56\u001b[0m \u001b[38;5;28;01mimport\u001b[39;00m \u001b[38;5;21;01mrpy2\u001b[39;00m\u001b[38;5;21;01m.\u001b[39;00m\u001b[38;5;21;01mrinterface_lib\u001b[39;00m\u001b[38;5;21;01m.\u001b[39;00m\u001b[38;5;21;01mcallbacks\u001b[39;00m\n\u001b[0;32m     57\u001b[0m \u001b[38;5;28;01mimport\u001b[39;00m \u001b[38;5;21;01mrpy2\u001b[39;00m\u001b[38;5;21;01m.\u001b[39;00m\u001b[38;5;21;01mrobjects\u001b[39;00m \u001b[38;5;28;01mas\u001b[39;00m \u001b[38;5;21;01mro\u001b[39;00m\n",
      "File \u001b[1;32m~\\Anaconda3\\lib\\site-packages\\rpy2\\rinterface.py:6\u001b[0m, in \u001b[0;36m<module>\u001b[1;34m\u001b[0m\n\u001b[0;32m      4\u001b[0m \u001b[38;5;28;01mimport\u001b[39;00m \u001b[38;5;21;01mmath\u001b[39;00m\n\u001b[0;32m      5\u001b[0m \u001b[38;5;28;01mimport\u001b[39;00m \u001b[38;5;21;01mtyping\u001b[39;00m\n\u001b[1;32m----> 6\u001b[0m \u001b[38;5;28;01mfrom\u001b[39;00m \u001b[38;5;21;01mrpy2\u001b[39;00m\u001b[38;5;21;01m.\u001b[39;00m\u001b[38;5;21;01mrinterface_lib\u001b[39;00m \u001b[38;5;28;01mimport\u001b[39;00m openrlib\n\u001b[0;32m      7\u001b[0m \u001b[38;5;28;01mimport\u001b[39;00m \u001b[38;5;21;01mrpy2\u001b[39;00m\u001b[38;5;21;01m.\u001b[39;00m\u001b[38;5;21;01mrinterface_lib\u001b[39;00m\u001b[38;5;21;01m.\u001b[39;00m\u001b[38;5;21;01m_rinterface_capi\u001b[39;00m \u001b[38;5;28;01mas\u001b[39;00m \u001b[38;5;21;01m_rinterface\u001b[39;00m\n\u001b[0;32m      8\u001b[0m \u001b[38;5;28;01mimport\u001b[39;00m \u001b[38;5;21;01mrpy2\u001b[39;00m\u001b[38;5;21;01m.\u001b[39;00m\u001b[38;5;21;01mrinterface_lib\u001b[39;00m\u001b[38;5;21;01m.\u001b[39;00m\u001b[38;5;21;01membedded\u001b[39;00m \u001b[38;5;28;01mas\u001b[39;00m \u001b[38;5;21;01membedded\u001b[39;00m\n",
      "File \u001b[1;32m~\\Anaconda3\\lib\\site-packages\\rpy2\\rinterface_lib\\openrlib.py:23\u001b[0m, in \u001b[0;36m<module>\u001b[1;34m\u001b[0m\n\u001b[0;32m     19\u001b[0m     rlib \u001b[38;5;241m=\u001b[39m ffi\u001b[38;5;241m.\u001b[39mdlopen(lib_path)\n\u001b[0;32m     20\u001b[0m     \u001b[38;5;28;01mreturn\u001b[39;00m rlib\n\u001b[1;32m---> 23\u001b[0m rlib \u001b[38;5;241m=\u001b[39m \u001b[43m_dlopen_rlib\u001b[49m\u001b[43m(\u001b[49m\u001b[43mR_HOME\u001b[49m\u001b[43m)\u001b[49m\n\u001b[0;32m     26\u001b[0m \u001b[38;5;66;03m# R macros and functions\u001b[39;00m\n\u001b[0;32m     27\u001b[0m \u001b[38;5;28;01mdef\u001b[39;00m \u001b[38;5;21m_get_symbol_or_fallback\u001b[39m(symbol: \u001b[38;5;28mstr\u001b[39m, fallback):\n",
      "File \u001b[1;32m~\\Anaconda3\\lib\\site-packages\\rpy2\\rinterface_lib\\openrlib.py:18\u001b[0m, in \u001b[0;36m_dlopen_rlib\u001b[1;34m(r_home)\u001b[0m\n\u001b[0;32m     15\u001b[0m \u001b[38;5;28;01mif\u001b[39;00m r_home \u001b[38;5;129;01mis\u001b[39;00m \u001b[38;5;28;01mNone\u001b[39;00m:\n\u001b[0;32m     16\u001b[0m     \u001b[38;5;28;01mraise\u001b[39;00m \u001b[38;5;167;01mValueError\u001b[39;00m(\u001b[38;5;124m'\u001b[39m\u001b[38;5;124mr_home is None. \u001b[39m\u001b[38;5;124m'\u001b[39m\n\u001b[0;32m     17\u001b[0m                      \u001b[38;5;124m'\u001b[39m\u001b[38;5;124mTry python -m rpy2.situation\u001b[39m\u001b[38;5;124m'\u001b[39m)\n\u001b[1;32m---> 18\u001b[0m lib_path \u001b[38;5;241m=\u001b[39m \u001b[43mrpy2\u001b[49m\u001b[38;5;241;43m.\u001b[39;49m\u001b[43msituation\u001b[49m\u001b[38;5;241;43m.\u001b[39;49m\u001b[43mget_rlib_path\u001b[49m\u001b[43m(\u001b[49m\u001b[43mr_home\u001b[49m\u001b[43m,\u001b[49m\u001b[43m \u001b[49m\u001b[43mplatform\u001b[49m\u001b[38;5;241;43m.\u001b[39;49m\u001b[43msystem\u001b[49m\u001b[43m(\u001b[49m\u001b[43m)\u001b[49m\u001b[43m)\u001b[49m\n\u001b[0;32m     19\u001b[0m rlib \u001b[38;5;241m=\u001b[39m ffi\u001b[38;5;241m.\u001b[39mdlopen(lib_path)\n\u001b[0;32m     20\u001b[0m \u001b[38;5;28;01mreturn\u001b[39;00m rlib\n",
      "File \u001b[1;32m~\\Anaconda3\\lib\\site-packages\\rpy2\\situation.py:72\u001b[0m, in \u001b[0;36mget_rlib_path\u001b[1;34m(r_home, system)\u001b[0m\n\u001b[0;32m     70\u001b[0m     lib_path \u001b[38;5;241m=\u001b[39m os\u001b[38;5;241m.\u001b[39mpath\u001b[38;5;241m.\u001b[39mjoin(r_home, \u001b[38;5;124m'\u001b[39m\u001b[38;5;124mlib\u001b[39m\u001b[38;5;124m'\u001b[39m, \u001b[38;5;124m'\u001b[39m\u001b[38;5;124mlibR.dylib\u001b[39m\u001b[38;5;124m'\u001b[39m)\n\u001b[0;32m     71\u001b[0m \u001b[38;5;28;01melse\u001b[39;00m:\n\u001b[1;32m---> 72\u001b[0m     \u001b[38;5;28;01mraise\u001b[39;00m \u001b[38;5;167;01mValueError\u001b[39;00m(\u001b[38;5;124m'\u001b[39m\u001b[38;5;124mThe system \u001b[39m\u001b[38;5;124m\"\u001b[39m\u001b[38;5;132;01m%s\u001b[39;00m\u001b[38;5;124m\"\u001b[39m\u001b[38;5;124m is not supported.\u001b[39m\u001b[38;5;124m'\u001b[39m)\n\u001b[0;32m     73\u001b[0m \u001b[38;5;28;01mreturn\u001b[39;00m lib_path\n",
      "\u001b[1;31mValueError\u001b[0m: The system \"%s\" is not supported."
     ]
    }
   ],
   "source": [
    "#Load rpy2 and R magic commands\n",
    "import rpy2\n",
    "%load_ext rpy2.ipython"
   ]
  },
  {
   "cell_type": "markdown",
   "metadata": {
    "slideshow": {
     "slide_type": "slide"
    }
   },
   "source": [
    "# Select, Filter, and Mutate\n",
    "\n",
    "In this lecture, we will look at three important actions used to process data frames.  While each framework uses different names for these functions, we will use the names from the `R` library `dplyr`, namely `select`, `mutate`, and `filter`.  The most important takeaway will be that, regardless of framework or scale, we can process data frames in the same way by applying the same sequence of data verbs."
   ]
  },
  {
   "cell_type": "markdown",
   "metadata": {
    "slideshow": {
     "slide_type": "slide"
    }
   },
   "source": [
    "## R and Python can interact!"
   ]
  },
  {
   "cell_type": "code",
   "execution_count": 17,
   "metadata": {
    "slideshow": {
     "slide_type": "fragment"
    }
   },
   "outputs": [],
   "source": [
    "import warnings\n",
    "warnings.filterwarnings('ignore')"
   ]
  },
  {
   "cell_type": "code",
   "execution_count": 19,
   "metadata": {
    "slideshow": {
     "slide_type": "fragment"
    }
   },
   "outputs": [
    {
     "name": "stderr",
     "output_type": "stream",
     "text": [
      "UsageError: Cell magic `%%R` not found.\n"
     ]
    }
   ],
   "source": [
    "%%R\n",
    "rnorm(5, 2, 3)"
   ]
  },
  {
   "cell_type": "markdown",
   "metadata": {
    "slideshow": {
     "slide_type": "slide"
    }
   },
   "source": [
    "## We love dplyr!"
   ]
  },
  {
   "cell_type": "code",
   "execution_count": 20,
   "metadata": {
    "scrolled": true,
    "slideshow": {
     "slide_type": "fragment"
    }
   },
   "outputs": [
    {
     "name": "stderr",
     "output_type": "stream",
     "text": [
      "UsageError: Cell magic `%%R` not found.\n"
     ]
    }
   ],
   "source": [
    "%%R \n",
    "library(dplyr)\n",
    "artists <- read.csv('./data/Artists.csv')\n",
    "\n",
    "(artists %>%\n",
    "  select(BeginDate, \n",
    "         DisplayName, \n",
    "         Nationality) %>%\n",
    "  filter(BeginDate > 0) %>%\n",
    "  head) -> output\n",
    "output"
   ]
  },
  {
   "cell_type": "markdown",
   "metadata": {
    "slideshow": {
     "slide_type": "slide"
    }
   },
   "source": [
    "## What makes `dplyr` so great?\n",
    "\n",
    "* Focus on data verbs\n",
    "* Pipes lead to code that is\n",
    "    * More readable\n",
    "    * Easy to compose and debug"
   ]
  },
  {
   "cell_type": "markdown",
   "metadata": {
    "slideshow": {
     "slide_type": "slide"
    }
   },
   "source": [
    "## Set up\n",
    "\n",
    "Let's read in a data set in each of the three frameworks"
   ]
  },
  {
   "cell_type": "code",
   "execution_count": 29,
   "metadata": {
    "slideshow": {
     "slide_type": "fragment"
    }
   },
   "outputs": [
    {
     "data": {
      "text/html": [
       "<div>\n",
       "<style scoped>\n",
       "    .dataframe tbody tr th:only-of-type {\n",
       "        vertical-align: middle;\n",
       "    }\n",
       "\n",
       "    .dataframe tbody tr th {\n",
       "        vertical-align: top;\n",
       "    }\n",
       "\n",
       "    .dataframe thead th {\n",
       "        text-align: right;\n",
       "    }\n",
       "</style>\n",
       "<table border=\"1\" class=\"dataframe\">\n",
       "  <thead>\n",
       "    <tr style=\"text-align: right;\">\n",
       "      <th></th>\n",
       "      <th>Unnamed: 0</th>\n",
       "      <th>name</th>\n",
       "      <th>Gender</th>\n",
       "      <th>Eye color</th>\n",
       "      <th>Race</th>\n",
       "      <th>Hair color</th>\n",
       "      <th>Height</th>\n",
       "      <th>Publisher</th>\n",
       "      <th>Skin color</th>\n",
       "      <th>Alignment</th>\n",
       "      <th>Weight</th>\n",
       "    </tr>\n",
       "  </thead>\n",
       "  <tbody>\n",
       "    <tr>\n",
       "      <th>0</th>\n",
       "      <td>0</td>\n",
       "      <td>A-Bomb</td>\n",
       "      <td>Male</td>\n",
       "      <td>yellow</td>\n",
       "      <td>Human</td>\n",
       "      <td>No Hair</td>\n",
       "      <td>203.0</td>\n",
       "      <td>Marvel Comics</td>\n",
       "      <td>-</td>\n",
       "      <td>good</td>\n",
       "      <td>441.0</td>\n",
       "    </tr>\n",
       "    <tr>\n",
       "      <th>1</th>\n",
       "      <td>1</td>\n",
       "      <td>Abe Sapien</td>\n",
       "      <td>Male</td>\n",
       "      <td>blue</td>\n",
       "      <td>Icthyo Sapien</td>\n",
       "      <td>No Hair</td>\n",
       "      <td>191.0</td>\n",
       "      <td>Dark Horse Comics</td>\n",
       "      <td>blue</td>\n",
       "      <td>good</td>\n",
       "      <td>65.0</td>\n",
       "    </tr>\n",
       "    <tr>\n",
       "      <th>2</th>\n",
       "      <td>2</td>\n",
       "      <td>Abin Sur</td>\n",
       "      <td>Male</td>\n",
       "      <td>blue</td>\n",
       "      <td>Ungaran</td>\n",
       "      <td>No Hair</td>\n",
       "      <td>185.0</td>\n",
       "      <td>DC Comics</td>\n",
       "      <td>red</td>\n",
       "      <td>good</td>\n",
       "      <td>90.0</td>\n",
       "    </tr>\n",
       "    <tr>\n",
       "      <th>3</th>\n",
       "      <td>3</td>\n",
       "      <td>Abomination</td>\n",
       "      <td>Male</td>\n",
       "      <td>green</td>\n",
       "      <td>Human / Radiation</td>\n",
       "      <td>No Hair</td>\n",
       "      <td>203.0</td>\n",
       "      <td>Marvel Comics</td>\n",
       "      <td>-</td>\n",
       "      <td>bad</td>\n",
       "      <td>441.0</td>\n",
       "    </tr>\n",
       "    <tr>\n",
       "      <th>4</th>\n",
       "      <td>4</td>\n",
       "      <td>Abraxas</td>\n",
       "      <td>Male</td>\n",
       "      <td>blue</td>\n",
       "      <td>Cosmic Entity</td>\n",
       "      <td>Black</td>\n",
       "      <td>-99.0</td>\n",
       "      <td>Marvel Comics</td>\n",
       "      <td>-</td>\n",
       "      <td>bad</td>\n",
       "      <td>-99.0</td>\n",
       "    </tr>\n",
       "  </tbody>\n",
       "</table>\n",
       "</div>"
      ],
      "text/plain": [
       "   Unnamed: 0         name Gender Eye color               Race Hair color  \\\n",
       "0           0       A-Bomb   Male    yellow              Human    No Hair   \n",
       "1           1   Abe Sapien   Male      blue      Icthyo Sapien    No Hair   \n",
       "2           2     Abin Sur   Male      blue            Ungaran    No Hair   \n",
       "3           3  Abomination   Male     green  Human / Radiation    No Hair   \n",
       "4           4      Abraxas   Male      blue      Cosmic Entity      Black   \n",
       "\n",
       "   Height          Publisher Skin color Alignment  Weight  \n",
       "0   203.0      Marvel Comics          -      good   441.0  \n",
       "1   191.0  Dark Horse Comics       blue      good    65.0  \n",
       "2   185.0          DC Comics        red      good    90.0  \n",
       "3   203.0      Marvel Comics          -       bad   441.0  \n",
       "4   -99.0      Marvel Comics          -       bad   -99.0  "
      ]
     },
     "execution_count": 29,
     "metadata": {},
     "output_type": "execute_result"
    }
   ],
   "source": [
    "import pandas as pd\n",
    "from dfply import *\n",
    "heroes = pd.read_csv('./data/heroes_information.csv')\n",
    "heroes.head()"
   ]
  },
  {
   "cell_type": "markdown",
   "metadata": {
    "slideshow": {
     "slide_type": "slide"
    }
   },
   "source": [
    "## Selecting Columns\n",
    "\n",
    "<img src=\"./img/select.png\">\n",
    "\n",
    "The first verb, `select` \n",
    "\n",
    "* filters the *columns*\n",
    "* At the core of `SQL` statements"
   ]
  },
  {
   "cell_type": "markdown",
   "metadata": {
    "slideshow": {
     "slide_type": "slide"
    }
   },
   "source": [
    "## How to select\n",
    " pipe (`>>`) into `select` and use `X.column_name` or `X['column name']`"
   ]
  },
  {
   "cell_type": "code",
   "execution_count": 30,
   "metadata": {
    "slideshow": {
     "slide_type": "fragment"
    }
   },
   "outputs": [
    {
     "data": {
      "text/html": [
       "<div>\n",
       "<style scoped>\n",
       "    .dataframe tbody tr th:only-of-type {\n",
       "        vertical-align: middle;\n",
       "    }\n",
       "\n",
       "    .dataframe tbody tr th {\n",
       "        vertical-align: top;\n",
       "    }\n",
       "\n",
       "    .dataframe thead th {\n",
       "        text-align: right;\n",
       "    }\n",
       "</style>\n",
       "<table border=\"1\" class=\"dataframe\">\n",
       "  <thead>\n",
       "    <tr style=\"text-align: right;\">\n",
       "      <th></th>\n",
       "      <th>name</th>\n",
       "      <th>Gender</th>\n",
       "      <th>Eye color</th>\n",
       "    </tr>\n",
       "  </thead>\n",
       "  <tbody>\n",
       "    <tr>\n",
       "      <th>0</th>\n",
       "      <td>A-Bomb</td>\n",
       "      <td>Male</td>\n",
       "      <td>yellow</td>\n",
       "    </tr>\n",
       "    <tr>\n",
       "      <th>1</th>\n",
       "      <td>Abe Sapien</td>\n",
       "      <td>Male</td>\n",
       "      <td>blue</td>\n",
       "    </tr>\n",
       "    <tr>\n",
       "      <th>2</th>\n",
       "      <td>Abin Sur</td>\n",
       "      <td>Male</td>\n",
       "      <td>blue</td>\n",
       "    </tr>\n",
       "    <tr>\n",
       "      <th>3</th>\n",
       "      <td>Abomination</td>\n",
       "      <td>Male</td>\n",
       "      <td>green</td>\n",
       "    </tr>\n",
       "    <tr>\n",
       "      <th>4</th>\n",
       "      <td>Abraxas</td>\n",
       "      <td>Male</td>\n",
       "      <td>blue</td>\n",
       "    </tr>\n",
       "  </tbody>\n",
       "</table>\n",
       "</div>"
      ],
      "text/plain": [
       "          name Gender Eye color\n",
       "0       A-Bomb   Male    yellow\n",
       "1   Abe Sapien   Male      blue\n",
       "2     Abin Sur   Male      blue\n",
       "3  Abomination   Male     green\n",
       "4      Abraxas   Male      blue"
      ]
     },
     "execution_count": 30,
     "metadata": {},
     "output_type": "execute_result"
    }
   ],
   "source": [
    "(heroes\n",
    " >> select(X.name, \n",
    "           X['Gender'],\n",
    "           'Eye color'\n",
    "          )\n",
    " >> head\n",
    ")"
   ]
  },
  {
   "cell_type": "markdown",
   "metadata": {
    "slideshow": {
     "slide_type": "slide"
    }
   },
   "source": [
    "## Filtering Rows\n",
    "\n",
    "<img src=\"./img/filter.png\">\n",
    "\n",
    "The next verb, `filter` \n",
    "\n",
    "* filters the *rows*\n",
    "* is related to the `SQL` `WHERE` clause"
   ]
  },
  {
   "cell_type": "markdown",
   "metadata": {
    "slideshow": {
     "slide_type": "slide"
    }
   },
   "source": [
    "## How to filter\n",
    "\n",
    "* pipe (`>>`) into `filter_by` \n",
    "* First argument is a boolean expression\n",
    "* Reference columns with `X.column_name` or `X['column name']`"
   ]
  },
  {
   "cell_type": "code",
   "execution_count": 10,
   "metadata": {
    "slideshow": {
     "slide_type": "fragment"
    }
   },
   "outputs": [
    {
     "data": {
      "text/html": [
       "<div>\n",
       "<style scoped>\n",
       "    .dataframe tbody tr th:only-of-type {\n",
       "        vertical-align: middle;\n",
       "    }\n",
       "\n",
       "    .dataframe tbody tr th {\n",
       "        vertical-align: top;\n",
       "    }\n",
       "\n",
       "    .dataframe thead th {\n",
       "        text-align: right;\n",
       "    }\n",
       "</style>\n",
       "<table border=\"1\" class=\"dataframe\">\n",
       "  <thead>\n",
       "    <tr style=\"text-align: right;\">\n",
       "      <th></th>\n",
       "      <th>Unnamed: 0</th>\n",
       "      <th>name</th>\n",
       "      <th>Gender</th>\n",
       "      <th>Eye color</th>\n",
       "      <th>Race</th>\n",
       "      <th>Hair color</th>\n",
       "      <th>Height</th>\n",
       "      <th>Publisher</th>\n",
       "      <th>Skin color</th>\n",
       "      <th>Alignment</th>\n",
       "      <th>Weight</th>\n",
       "    </tr>\n",
       "  </thead>\n",
       "  <tbody>\n",
       "    <tr>\n",
       "      <th>0</th>\n",
       "      <td>0</td>\n",
       "      <td>A-Bomb</td>\n",
       "      <td>Male</td>\n",
       "      <td>yellow</td>\n",
       "      <td>Human</td>\n",
       "      <td>No Hair</td>\n",
       "      <td>203.0</td>\n",
       "      <td>Marvel Comics</td>\n",
       "      <td>-</td>\n",
       "      <td>good</td>\n",
       "      <td>441.0</td>\n",
       "    </tr>\n",
       "    <tr>\n",
       "      <th>1</th>\n",
       "      <td>1</td>\n",
       "      <td>Abe Sapien</td>\n",
       "      <td>Male</td>\n",
       "      <td>blue</td>\n",
       "      <td>Icthyo Sapien</td>\n",
       "      <td>No Hair</td>\n",
       "      <td>191.0</td>\n",
       "      <td>Dark Horse Comics</td>\n",
       "      <td>blue</td>\n",
       "      <td>good</td>\n",
       "      <td>65.0</td>\n",
       "    </tr>\n",
       "    <tr>\n",
       "      <th>2</th>\n",
       "      <td>2</td>\n",
       "      <td>Abin Sur</td>\n",
       "      <td>Male</td>\n",
       "      <td>blue</td>\n",
       "      <td>Ungaran</td>\n",
       "      <td>No Hair</td>\n",
       "      <td>185.0</td>\n",
       "      <td>DC Comics</td>\n",
       "      <td>red</td>\n",
       "      <td>good</td>\n",
       "      <td>90.0</td>\n",
       "    </tr>\n",
       "    <tr>\n",
       "      <th>3</th>\n",
       "      <td>3</td>\n",
       "      <td>Abomination</td>\n",
       "      <td>Male</td>\n",
       "      <td>green</td>\n",
       "      <td>Human / Radiation</td>\n",
       "      <td>No Hair</td>\n",
       "      <td>203.0</td>\n",
       "      <td>Marvel Comics</td>\n",
       "      <td>-</td>\n",
       "      <td>bad</td>\n",
       "      <td>441.0</td>\n",
       "    </tr>\n",
       "    <tr>\n",
       "      <th>4</th>\n",
       "      <td>4</td>\n",
       "      <td>Abraxas</td>\n",
       "      <td>Male</td>\n",
       "      <td>blue</td>\n",
       "      <td>Cosmic Entity</td>\n",
       "      <td>Black</td>\n",
       "      <td>-99.0</td>\n",
       "      <td>Marvel Comics</td>\n",
       "      <td>-</td>\n",
       "      <td>bad</td>\n",
       "      <td>-99.0</td>\n",
       "    </tr>\n",
       "  </tbody>\n",
       "</table>\n",
       "</div>"
      ],
      "text/plain": [
       "   Unnamed: 0         name Gender Eye color               Race Hair color  \\\n",
       "0           0       A-Bomb   Male    yellow              Human    No Hair   \n",
       "1           1   Abe Sapien   Male      blue      Icthyo Sapien    No Hair   \n",
       "2           2     Abin Sur   Male      blue            Ungaran    No Hair   \n",
       "3           3  Abomination   Male     green  Human / Radiation    No Hair   \n",
       "4           4      Abraxas   Male      blue      Cosmic Entity      Black   \n",
       "\n",
       "   Height          Publisher Skin color Alignment  Weight  \n",
       "0   203.0      Marvel Comics          -      good   441.0  \n",
       "1   191.0  Dark Horse Comics       blue      good    65.0  \n",
       "2   185.0          DC Comics        red      good    90.0  \n",
       "3   203.0      Marvel Comics          -       bad   441.0  \n",
       "4   -99.0      Marvel Comics          -       bad   -99.0  "
      ]
     },
     "execution_count": 10,
     "metadata": {},
     "output_type": "execute_result"
    }
   ],
   "source": [
    "(heroes \n",
    " >> filter_by(X.Gender == 'Male') \n",
    " >> head\n",
    ")"
   ]
  },
  {
   "cell_type": "markdown",
   "metadata": {
    "slideshow": {
     "slide_type": "slide"
    }
   },
   "source": [
    "## Chaining Data Verbs\n",
    "\n",
    "* Processing df $\\rightarrow$ chaining data verbs\n",
    "* Accomplished through pipes/dot-chains"
   ]
  },
  {
   "cell_type": "markdown",
   "metadata": {
    "slideshow": {
     "slide_type": "slide"
    }
   },
   "source": [
    "## Example 1 - `select` + `filter`"
   ]
  },
  {
   "cell_type": "code",
   "execution_count": 11,
   "metadata": {
    "slideshow": {
     "slide_type": "fragment"
    }
   },
   "outputs": [
    {
     "data": {
      "text/html": [
       "<div>\n",
       "<style scoped>\n",
       "    .dataframe tbody tr th:only-of-type {\n",
       "        vertical-align: middle;\n",
       "    }\n",
       "\n",
       "    .dataframe tbody tr th {\n",
       "        vertical-align: top;\n",
       "    }\n",
       "\n",
       "    .dataframe thead th {\n",
       "        text-align: right;\n",
       "    }\n",
       "</style>\n",
       "<table border=\"1\" class=\"dataframe\">\n",
       "  <thead>\n",
       "    <tr style=\"text-align: right;\">\n",
       "      <th></th>\n",
       "      <th>name</th>\n",
       "      <th>Gender</th>\n",
       "      <th>Weight</th>\n",
       "    </tr>\n",
       "  </thead>\n",
       "  <tbody>\n",
       "    <tr>\n",
       "      <th>0</th>\n",
       "      <td>A-Bomb</td>\n",
       "      <td>Male</td>\n",
       "      <td>441.0</td>\n",
       "    </tr>\n",
       "    <tr>\n",
       "      <th>1</th>\n",
       "      <td>Abe Sapien</td>\n",
       "      <td>Male</td>\n",
       "      <td>65.0</td>\n",
       "    </tr>\n",
       "    <tr>\n",
       "      <th>2</th>\n",
       "      <td>Abin Sur</td>\n",
       "      <td>Male</td>\n",
       "      <td>90.0</td>\n",
       "    </tr>\n",
       "    <tr>\n",
       "      <th>3</th>\n",
       "      <td>Abomination</td>\n",
       "      <td>Male</td>\n",
       "      <td>441.0</td>\n",
       "    </tr>\n",
       "    <tr>\n",
       "      <th>4</th>\n",
       "      <td>Abraxas</td>\n",
       "      <td>Male</td>\n",
       "      <td>-99.0</td>\n",
       "    </tr>\n",
       "  </tbody>\n",
       "</table>\n",
       "</div>"
      ],
      "text/plain": [
       "          name Gender  Weight\n",
       "0       A-Bomb   Male   441.0\n",
       "1   Abe Sapien   Male    65.0\n",
       "2     Abin Sur   Male    90.0\n",
       "3  Abomination   Male   441.0\n",
       "4      Abraxas   Male   -99.0"
      ]
     },
     "execution_count": 11,
     "metadata": {},
     "output_type": "execute_result"
    }
   ],
   "source": [
    "(heroes \n",
    " >> filter_by(X.Gender == 'Male') \n",
    " >> select(X.name, X.Gender, X.Weight) \n",
    " >> head\n",
    ")"
   ]
  },
  {
   "cell_type": "markdown",
   "metadata": {
    "slideshow": {
     "slide_type": "slide"
    }
   },
   "source": [
    "## Example 2 - `filter` + `filter`\n",
    "\n",
    "Note that chaining `filter`s is an `and` operation."
   ]
  },
  {
   "cell_type": "markdown",
   "metadata": {
    "slideshow": {
     "slide_type": "fragment"
    }
   },
   "source": [
    "####  `pandas` + `dfply`"
   ]
  },
  {
   "cell_type": "code",
   "execution_count": 13,
   "metadata": {
    "slideshow": {
     "slide_type": "fragment"
    }
   },
   "outputs": [
    {
     "data": {
      "text/html": [
       "<div>\n",
       "<style scoped>\n",
       "    .dataframe tbody tr th:only-of-type {\n",
       "        vertical-align: middle;\n",
       "    }\n",
       "\n",
       "    .dataframe tbody tr th {\n",
       "        vertical-align: top;\n",
       "    }\n",
       "\n",
       "    .dataframe thead th {\n",
       "        text-align: right;\n",
       "    }\n",
       "</style>\n",
       "<table border=\"1\" class=\"dataframe\">\n",
       "  <thead>\n",
       "    <tr style=\"text-align: right;\">\n",
       "      <th></th>\n",
       "      <th>name</th>\n",
       "      <th>Gender</th>\n",
       "      <th>Weight</th>\n",
       "    </tr>\n",
       "  </thead>\n",
       "  <tbody>\n",
       "    <tr>\n",
       "      <th>0</th>\n",
       "      <td>A-Bomb</td>\n",
       "      <td>Male</td>\n",
       "      <td>441.0</td>\n",
       "    </tr>\n",
       "    <tr>\n",
       "      <th>1</th>\n",
       "      <td>Abe Sapien</td>\n",
       "      <td>Male</td>\n",
       "      <td>65.0</td>\n",
       "    </tr>\n",
       "    <tr>\n",
       "      <th>2</th>\n",
       "      <td>Abin Sur</td>\n",
       "      <td>Male</td>\n",
       "      <td>90.0</td>\n",
       "    </tr>\n",
       "    <tr>\n",
       "      <th>3</th>\n",
       "      <td>Abomination</td>\n",
       "      <td>Male</td>\n",
       "      <td>441.0</td>\n",
       "    </tr>\n",
       "    <tr>\n",
       "      <th>5</th>\n",
       "      <td>Absorbing Man</td>\n",
       "      <td>Male</td>\n",
       "      <td>122.0</td>\n",
       "    </tr>\n",
       "  </tbody>\n",
       "</table>\n",
       "</div>"
      ],
      "text/plain": [
       "            name Gender  Weight\n",
       "0         A-Bomb   Male   441.0\n",
       "1     Abe Sapien   Male    65.0\n",
       "2       Abin Sur   Male    90.0\n",
       "3    Abomination   Male   441.0\n",
       "5  Absorbing Man   Male   122.0"
      ]
     },
     "execution_count": 13,
     "metadata": {},
     "output_type": "execute_result"
    }
   ],
   "source": [
    "(heroes >>\n",
    "   select(X.name, X.Gender, X.Weight) >>\n",
    "   filter_by(X.Gender == 'Male') >>\n",
    "   filter_by(X.Weight > 0) >>\n",
    "   head)"
   ]
  },
  {
   "cell_type": "markdown",
   "metadata": {
    "slideshow": {
     "slide_type": "slide"
    }
   },
   "source": [
    "## <font color=\"red\"> Exercise 2.2.1: Blue-eyed Heroes </font>\n",
    "\n",
    "Create a query that\n",
    "\n",
    "1. Selects the name, Gender, and Eye Color columns\n",
    "2. Filters on eye_color == 'blue'"
   ]
  },
  {
   "cell_type": "code",
   "execution_count": 39,
   "metadata": {
    "slideshow": {
     "slide_type": "fragment"
    }
   },
   "outputs": [
    {
     "data": {
      "text/html": [
       "<div>\n",
       "<style scoped>\n",
       "    .dataframe tbody tr th:only-of-type {\n",
       "        vertical-align: middle;\n",
       "    }\n",
       "\n",
       "    .dataframe tbody tr th {\n",
       "        vertical-align: top;\n",
       "    }\n",
       "\n",
       "    .dataframe thead th {\n",
       "        text-align: right;\n",
       "    }\n",
       "</style>\n",
       "<table border=\"1\" class=\"dataframe\">\n",
       "  <thead>\n",
       "    <tr style=\"text-align: right;\">\n",
       "      <th></th>\n",
       "      <th>name</th>\n",
       "      <th>Gender</th>\n",
       "      <th>Eye color</th>\n",
       "    </tr>\n",
       "  </thead>\n",
       "  <tbody>\n",
       "    <tr>\n",
       "      <th>1</th>\n",
       "      <td>Abe Sapien</td>\n",
       "      <td>Male</td>\n",
       "      <td>blue</td>\n",
       "    </tr>\n",
       "    <tr>\n",
       "      <th>2</th>\n",
       "      <td>Abin Sur</td>\n",
       "      <td>Male</td>\n",
       "      <td>blue</td>\n",
       "    </tr>\n",
       "    <tr>\n",
       "      <th>4</th>\n",
       "      <td>Abraxas</td>\n",
       "      <td>Male</td>\n",
       "      <td>blue</td>\n",
       "    </tr>\n",
       "    <tr>\n",
       "      <th>5</th>\n",
       "      <td>Absorbing Man</td>\n",
       "      <td>Male</td>\n",
       "      <td>blue</td>\n",
       "    </tr>\n",
       "    <tr>\n",
       "      <th>6</th>\n",
       "      <td>Adam Monroe</td>\n",
       "      <td>Male</td>\n",
       "      <td>blue</td>\n",
       "    </tr>\n",
       "  </tbody>\n",
       "</table>\n",
       "</div>"
      ],
      "text/plain": [
       "            name Gender Eye color\n",
       "1     Abe Sapien   Male      blue\n",
       "2       Abin Sur   Male      blue\n",
       "4        Abraxas   Male      blue\n",
       "5  Absorbing Man   Male      blue\n",
       "6    Adam Monroe   Male      blue"
      ]
     },
     "execution_count": 39,
     "metadata": {},
     "output_type": "execute_result"
    }
   ],
   "source": [
    "(heroes >>\n",
    "    select(X.name, X.Gender, X['Eye color'])>>\n",
    "    filter_by(X['Eye color'] == 'blue')>>\n",
    " head)\n",
    "# Make sure to format 2-word columns by using (X['column name'])"
   ]
  },
  {
   "cell_type": "markdown",
   "metadata": {
    "slideshow": {
     "slide_type": "slide"
    }
   },
   "source": [
    "## Constructing New Columns\n",
    "\n",
    "The third verb, `mutate` \n",
    "\n",
    "* Creates new columns\n",
    "* Changes existing columns"
   ]
  },
  {
   "cell_type": "markdown",
   "metadata": {
    "slideshow": {
     "slide_type": "slide"
    }
   },
   "source": [
    "## How to mutate\n",
    "\n",
    "*  pipe (`>>`) into `mutate`\n",
    "* First argument is a transformational expression\n",
    "* Reference columns with `X.column_name` or `X['column name']`"
   ]
  },
  {
   "cell_type": "markdown",
   "metadata": {
    "slideshow": {
     "slide_type": "slide"
    }
   },
   "source": [
    "## Example 3 - Converting Weight to kilograms\n",
    "\n",
    "Currently, the weight column is in pounds.  Let's convert to kilograms."
   ]
  },
  {
   "cell_type": "code",
   "execution_count": 15,
   "metadata": {
    "slideshow": {
     "slide_type": "fragment"
    }
   },
   "outputs": [
    {
     "data": {
      "text/html": [
       "<div>\n",
       "<style scoped>\n",
       "    .dataframe tbody tr th:only-of-type {\n",
       "        vertical-align: middle;\n",
       "    }\n",
       "\n",
       "    .dataframe tbody tr th {\n",
       "        vertical-align: top;\n",
       "    }\n",
       "\n",
       "    .dataframe thead th {\n",
       "        text-align: right;\n",
       "    }\n",
       "</style>\n",
       "<table border=\"1\" class=\"dataframe\">\n",
       "  <thead>\n",
       "    <tr style=\"text-align: right;\">\n",
       "      <th></th>\n",
       "      <th>name</th>\n",
       "      <th>Gender</th>\n",
       "      <th>Weight</th>\n",
       "      <th>Weight_kg</th>\n",
       "    </tr>\n",
       "  </thead>\n",
       "  <tbody>\n",
       "    <tr>\n",
       "      <th>0</th>\n",
       "      <td>A-Bomb</td>\n",
       "      <td>Male</td>\n",
       "      <td>441.0</td>\n",
       "      <td>200.036288</td>\n",
       "    </tr>\n",
       "    <tr>\n",
       "      <th>1</th>\n",
       "      <td>Abe Sapien</td>\n",
       "      <td>Male</td>\n",
       "      <td>65.0</td>\n",
       "      <td>29.483807</td>\n",
       "    </tr>\n",
       "    <tr>\n",
       "      <th>2</th>\n",
       "      <td>Abin Sur</td>\n",
       "      <td>Male</td>\n",
       "      <td>90.0</td>\n",
       "      <td>40.823732</td>\n",
       "    </tr>\n",
       "    <tr>\n",
       "      <th>3</th>\n",
       "      <td>Abomination</td>\n",
       "      <td>Male</td>\n",
       "      <td>441.0</td>\n",
       "      <td>200.036288</td>\n",
       "    </tr>\n",
       "    <tr>\n",
       "      <th>4</th>\n",
       "      <td>Abraxas</td>\n",
       "      <td>Male</td>\n",
       "      <td>-99.0</td>\n",
       "      <td>-44.906105</td>\n",
       "    </tr>\n",
       "  </tbody>\n",
       "</table>\n",
       "</div>"
      ],
      "text/plain": [
       "          name Gender  Weight   Weight_kg\n",
       "0       A-Bomb   Male   441.0  200.036288\n",
       "1   Abe Sapien   Male    65.0   29.483807\n",
       "2     Abin Sur   Male    90.0   40.823732\n",
       "3  Abomination   Male   441.0  200.036288\n",
       "4      Abraxas   Male   -99.0  -44.906105"
      ]
     },
     "execution_count": 15,
     "metadata": {},
     "output_type": "execute_result"
    }
   ],
   "source": [
    "(heroes \n",
    " >> select(X.name, \n",
    "           X.Gender, \n",
    "           X.Weight) \n",
    " >> mutate(Weight_kg = X.Weight/2.2046) \n",
    " >> head\n",
    ")"
   ]
  },
  {
   "cell_type": "markdown",
   "metadata": {
    "slideshow": {
     "slide_type": "slide"
    }
   },
   "source": [
    "## Referencing a new column\n",
    "\n",
    "Each framework provides a way to reference a new column.\n",
    "\n",
    "* **Create:** Use `mutate(new_col = ...)`\n",
    "* **Later reference:** Use `X.new_col` or `X['new_col']`"
   ]
  },
  {
   "cell_type": "markdown",
   "metadata": {
    "slideshow": {
     "slide_type": "slide"
    }
   },
   "source": [
    "## Example 4 - Converting Weight to kilograms and filter\n",
    "\n",
    "Let's find all heroes with a weight under 100kg."
   ]
  },
  {
   "cell_type": "code",
   "execution_count": 16,
   "metadata": {
    "slideshow": {
     "slide_type": "fragment"
    }
   },
   "outputs": [
    {
     "data": {
      "text/html": [
       "<div>\n",
       "<style scoped>\n",
       "    .dataframe tbody tr th:only-of-type {\n",
       "        vertical-align: middle;\n",
       "    }\n",
       "\n",
       "    .dataframe tbody tr th {\n",
       "        vertical-align: top;\n",
       "    }\n",
       "\n",
       "    .dataframe thead th {\n",
       "        text-align: right;\n",
       "    }\n",
       "</style>\n",
       "<table border=\"1\" class=\"dataframe\">\n",
       "  <thead>\n",
       "    <tr style=\"text-align: right;\">\n",
       "      <th></th>\n",
       "      <th>name</th>\n",
       "      <th>Gender</th>\n",
       "      <th>Weight</th>\n",
       "      <th>Weight_kg</th>\n",
       "    </tr>\n",
       "  </thead>\n",
       "  <tbody>\n",
       "    <tr>\n",
       "      <th>1</th>\n",
       "      <td>Abe Sapien</td>\n",
       "      <td>Male</td>\n",
       "      <td>65.0</td>\n",
       "      <td>29.483807</td>\n",
       "    </tr>\n",
       "    <tr>\n",
       "      <th>2</th>\n",
       "      <td>Abin Sur</td>\n",
       "      <td>Male</td>\n",
       "      <td>90.0</td>\n",
       "      <td>40.823732</td>\n",
       "    </tr>\n",
       "    <tr>\n",
       "      <th>4</th>\n",
       "      <td>Abraxas</td>\n",
       "      <td>Male</td>\n",
       "      <td>-99.0</td>\n",
       "      <td>-44.906105</td>\n",
       "    </tr>\n",
       "    <tr>\n",
       "      <th>5</th>\n",
       "      <td>Absorbing Man</td>\n",
       "      <td>Male</td>\n",
       "      <td>122.0</td>\n",
       "      <td>55.338837</td>\n",
       "    </tr>\n",
       "    <tr>\n",
       "      <th>6</th>\n",
       "      <td>Adam Monroe</td>\n",
       "      <td>Male</td>\n",
       "      <td>-99.0</td>\n",
       "      <td>-44.906105</td>\n",
       "    </tr>\n",
       "  </tbody>\n",
       "</table>\n",
       "</div>"
      ],
      "text/plain": [
       "            name Gender  Weight  Weight_kg\n",
       "1     Abe Sapien   Male    65.0  29.483807\n",
       "2       Abin Sur   Male    90.0  40.823732\n",
       "4        Abraxas   Male   -99.0 -44.906105\n",
       "5  Absorbing Man   Male   122.0  55.338837\n",
       "6    Adam Monroe   Male   -99.0 -44.906105"
      ]
     },
     "execution_count": 16,
     "metadata": {},
     "output_type": "execute_result"
    }
   ],
   "source": [
    "(heroes \n",
    " >> select(X.name, X.Gender, X.Weight) \n",
    " >> mutate(Weight_kg = X.Weight/2.2046) \n",
    " >> filter_by(X.Weight_kg < 100) \n",
    " >> head\n",
    ")"
   ]
  },
  {
   "cell_type": "markdown",
   "metadata": {
    "slideshow": {
     "slide_type": "slide"
    }
   },
   "source": [
    "## <font color=\"red\"> Exercise 2.2.2: Tall Heroes </font>\n",
    "\n",
    "Create a query that\n",
    "\n",
    "1. Selects the name, Gender, and Height columns\n",
    "2. Compute the height in inches.\n",
    "    * Check [here](https://www.kaggle.com/claudiodavi/superhero-set) to determine the current units.\n",
    "3. Filters on height_in > 72"
   ]
  },
  {
   "cell_type": "code",
   "execution_count": 42,
   "metadata": {
    "slideshow": {
     "slide_type": "fragment"
    }
   },
   "outputs": [
    {
     "data": {
      "text/html": [
       "<div>\n",
       "<style scoped>\n",
       "    .dataframe tbody tr th:only-of-type {\n",
       "        vertical-align: middle;\n",
       "    }\n",
       "\n",
       "    .dataframe tbody tr th {\n",
       "        vertical-align: top;\n",
       "    }\n",
       "\n",
       "    .dataframe thead th {\n",
       "        text-align: right;\n",
       "    }\n",
       "</style>\n",
       "<table border=\"1\" class=\"dataframe\">\n",
       "  <thead>\n",
       "    <tr style=\"text-align: right;\">\n",
       "      <th></th>\n",
       "      <th>name</th>\n",
       "      <th>Gender</th>\n",
       "      <th>Height</th>\n",
       "      <th>height_in</th>\n",
       "    </tr>\n",
       "  </thead>\n",
       "  <tbody>\n",
       "    <tr>\n",
       "      <th>0</th>\n",
       "      <td>A-Bomb</td>\n",
       "      <td>Male</td>\n",
       "      <td>203.0</td>\n",
       "      <td>79.921260</td>\n",
       "    </tr>\n",
       "    <tr>\n",
       "      <th>1</th>\n",
       "      <td>Abe Sapien</td>\n",
       "      <td>Male</td>\n",
       "      <td>191.0</td>\n",
       "      <td>75.196850</td>\n",
       "    </tr>\n",
       "    <tr>\n",
       "      <th>2</th>\n",
       "      <td>Abin Sur</td>\n",
       "      <td>Male</td>\n",
       "      <td>185.0</td>\n",
       "      <td>72.834646</td>\n",
       "    </tr>\n",
       "    <tr>\n",
       "      <th>3</th>\n",
       "      <td>Abomination</td>\n",
       "      <td>Male</td>\n",
       "      <td>203.0</td>\n",
       "      <td>79.921260</td>\n",
       "    </tr>\n",
       "    <tr>\n",
       "      <th>5</th>\n",
       "      <td>Absorbing Man</td>\n",
       "      <td>Male</td>\n",
       "      <td>193.0</td>\n",
       "      <td>75.984252</td>\n",
       "    </tr>\n",
       "  </tbody>\n",
       "</table>\n",
       "</div>"
      ],
      "text/plain": [
       "            name Gender  Height  height_in\n",
       "0         A-Bomb   Male   203.0  79.921260\n",
       "1     Abe Sapien   Male   191.0  75.196850\n",
       "2       Abin Sur   Male   185.0  72.834646\n",
       "3    Abomination   Male   203.0  79.921260\n",
       "5  Absorbing Man   Male   193.0  75.984252"
      ]
     },
     "execution_count": 42,
     "metadata": {},
     "output_type": "execute_result"
    }
   ],
   "source": [
    "(heroes >>\n",
    "    select(X.name, X.Gender, X.Height)>>\n",
    "    mutate(height_in = X.Height/2.54)>>\n",
    "    filter_by(X.height_in>72)>>\n",
    "head)\n",
    "# When forming a new column, always make sure to add 'X.' before you run it in order to make your new column"
   ]
  }
 ],
 "metadata": {
  "celltoolbar": "Slideshow",
  "kernelspec": {
   "display_name": "Python 3 (ipykernel)",
   "language": "python",
   "name": "python3"
  },
  "language_info": {
   "codemirror_mode": {
    "name": "ipython",
    "version": 3
   },
   "file_extension": ".py",
   "mimetype": "text/x-python",
   "name": "python",
   "nbconvert_exporter": "python",
   "pygments_lexer": "ipython3",
   "version": "3.9.12"
  },
  "varInspector": {
   "cols": {
    "lenName": 16,
    "lenType": 16,
    "lenVar": 40
   },
   "kernels_config": {
    "python": {
     "delete_cmd_postfix": "",
     "delete_cmd_prefix": "del ",
     "library": "var_list.py",
     "varRefreshCmd": "print(var_dic_list())"
    },
    "r": {
     "delete_cmd_postfix": ") ",
     "delete_cmd_prefix": "rm(",
     "library": "var_list.r",
     "varRefreshCmd": "cat(var_dic_list()) "
    }
   },
   "types_to_exclude": [
    "module",
    "function",
    "builtin_function_or_method",
    "instance",
    "_Feature"
   ],
   "window_display": false
  }
 },
 "nbformat": 4,
 "nbformat_minor": 2
}
